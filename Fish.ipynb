{
  "nbformat": 4,
  "nbformat_minor": 0,
  "metadata": {
    "colab": {
      "name": "Fish.ipynb",
      "provenance": [],
      "toc_visible": true,
      "include_colab_link": true
    },
    "kernelspec": {
      "name": "python3",
      "display_name": "Python 3"
    }
  },
  "cells": [
    {
      "cell_type": "markdown",
      "metadata": {
        "id": "view-in-github",
        "colab_type": "text"
      },
      "source": [
        "<a href=\"https://colab.research.google.com/github/progwise/machine_learning/blob/master/Fish.ipynb\" target=\"_parent\"><img src=\"https://colab.research.google.com/assets/colab-badge.svg\" alt=\"Open In Colab\"/></a>"
      ]
    },
    {
      "cell_type": "markdown",
      "metadata": {
        "id": "5OcxmrBnUEXF",
        "colab_type": "text"
      },
      "source": [
        "# Workshop\n",
        "\n",
        "This example uses the Fish market dataset from Kaggle: https://www.kaggle.com/aungpyaeap/fish-market"
      ]
    },
    {
      "cell_type": "markdown",
      "metadata": {
        "id": "MZ0z4shdUUnI",
        "colab_type": "text"
      },
      "source": [
        "Set the tensorflow version"
      ]
    },
    {
      "cell_type": "code",
      "metadata": {
        "id": "yjuTnEbuMDjA",
        "colab_type": "code",
        "colab": {}
      },
      "source": [
        "try:\n",
        "  # %tensorflow_version only exists in Colab.\n",
        "  %tensorflow_version 2.x\n",
        "except Exception:\n",
        "  pass"
      ],
      "execution_count": 0,
      "outputs": []
    },
    {
      "cell_type": "markdown",
      "metadata": {
        "id": "2vZlfZS0Ub4F",
        "colab_type": "text"
      },
      "source": [
        "Import dependencies:"
      ]
    },
    {
      "cell_type": "code",
      "metadata": {
        "id": "Lm3aab7Vd0hT",
        "colab_type": "code",
        "colab": {}
      },
      "source": [
        "from __future__ import absolute_import, division, print_function, unicode_literals\n",
        "import functools\n",
        "\n",
        "import numpy as np\n",
        "import tensorflow as tf\n",
        "from sklearn.model_selection import train_test_split\n",
        "from sklearn import preprocessing"
      ],
      "execution_count": 0,
      "outputs": []
    },
    {
      "cell_type": "markdown",
      "metadata": {
        "id": "WvzTp6YuUgSl",
        "colab_type": "text"
      },
      "source": [
        "Download the dataset to `Fish.csv`"
      ]
    },
    {
      "cell_type": "code",
      "metadata": {
        "id": "zWn7_ZZkN6nM",
        "colab_type": "code",
        "colab": {}
      },
      "source": [
        "!curl -o Fish.csv https://gist.githubusercontent.com/PascalHelbig/4206c19795d252172bb69416d0ebc73f/raw"
      ],
      "execution_count": 0,
      "outputs": []
    },
    {
      "cell_type": "code",
      "metadata": {
        "id": "KA28uI11e01H",
        "colab_type": "code",
        "colab": {}
      },
      "source": [
        "LABELS = [\"Bream\", \"Roach\", \"Whitefish\", \"Parkki\", \"Perch\", \"Pike\", \"Smelt\"]"
      ],
      "execution_count": 0,
      "outputs": []
    },
    {
      "cell_type": "code",
      "metadata": {
        "id": "74z62ZN1WCfG",
        "colab_type": "code",
        "colab": {}
      },
      "source": [
        "my_data = np.genfromtxt('/content/Fish.csv', delimiter=',', skip_header=1, converters= {0: lambda fishName: LABELS.index(fishName.decode('utf-8'))})\n",
        "my_data = np.array(my_data.tolist())\n",
        "\n",
        "x = my_data[:,1:]\n",
        "y = my_data[:,0].astype(int)\n",
        "y = tf.keras.utils.to_categorical(y, num_classes=len(LABELS))\n",
        "\n",
        "# Run feature scaling on the dataset\n",
        "x = preprocessing.scale(x)\n",
        "\n",
        "x_train, x_test, y_train, y_test = train_test_split(x, y, test_size=0.33)"
      ],
      "execution_count": 0,
      "outputs": []
    },
    {
      "cell_type": "markdown",
      "metadata": {
        "id": "sKjPo7rMS5Fe",
        "colab_type": "text"
      },
      "source": [
        "## Tip for Loss Function:\n",
        "\n",
        "Just pass the name of the loss function into `model.compile`, e.g. `model.compile(loss=\"mean_squared_error\", ...)`"
      ]
    }
  ]
}